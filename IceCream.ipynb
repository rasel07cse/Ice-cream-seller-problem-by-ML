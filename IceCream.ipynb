{
 "cells": [
  {
   "cell_type": "markdown",
   "id": "2f4b60d1",
   "metadata": {},
   "source": [
    " # Solve a Ice Cream seller's problem"
   ]
  },
  {
   "cell_type": "markdown",
   "id": "ee7f155b",
   "metadata": {},
   "source": [
    "<img src=\"ice.jpg\">"
   ]
  },
  {
   "cell_type": "markdown",
   "id": "be836317",
   "metadata": {},
   "source": [
    "# Important module and library"
   ]
  },
  {
   "cell_type": "code",
   "execution_count": 4,
   "id": "2dc1ff14",
   "metadata": {},
   "outputs": [],
   "source": [
    "#Important module and library  to run the program \n",
    "import pandas as pd\n",
    "import numpy as np\n",
    "import matplotlib.pyplot as plt\n",
    "from sklearn.linear_model import LinearRegression"
   ]
  },
  {
   "cell_type": "markdown",
   "id": "fdecffe1",
   "metadata": {},
   "source": [
    "# Load the Dataset"
   ]
  },
  {
   "cell_type": "code",
   "execution_count": 5,
   "id": "7f3d33d3",
   "metadata": {},
   "outputs": [
    {
     "data": {
      "text/html": [
       "<div>\n",
       "<style scoped>\n",
       "    .dataframe tbody tr th:only-of-type {\n",
       "        vertical-align: middle;\n",
       "    }\n",
       "\n",
       "    .dataframe tbody tr th {\n",
       "        vertical-align: top;\n",
       "    }\n",
       "\n",
       "    .dataframe thead th {\n",
       "        text-align: right;\n",
       "    }\n",
       "</style>\n",
       "<table border=\"1\" class=\"dataframe\">\n",
       "  <thead>\n",
       "    <tr style=\"text-align: right;\">\n",
       "      <th></th>\n",
       "      <th>Date</th>\n",
       "      <th>temp</th>\n",
       "      <th>Sell</th>\n",
       "    </tr>\n",
       "  </thead>\n",
       "  <tbody>\n",
       "    <tr>\n",
       "      <th>0</th>\n",
       "      <td>1_jan</td>\n",
       "      <td>30</td>\n",
       "      <td>110</td>\n",
       "    </tr>\n",
       "    <tr>\n",
       "      <th>1</th>\n",
       "      <td>2_jan</td>\n",
       "      <td>38</td>\n",
       "      <td>140</td>\n",
       "    </tr>\n",
       "    <tr>\n",
       "      <th>2</th>\n",
       "      <td>3_jan</td>\n",
       "      <td>37</td>\n",
       "      <td>200</td>\n",
       "    </tr>\n",
       "    <tr>\n",
       "      <th>3</th>\n",
       "      <td>4_jan</td>\n",
       "      <td>25</td>\n",
       "      <td>90</td>\n",
       "    </tr>\n",
       "    <tr>\n",
       "      <th>4</th>\n",
       "      <td>5_jan</td>\n",
       "      <td>33</td>\n",
       "      <td>170</td>\n",
       "    </tr>\n",
       "    <tr>\n",
       "      <th>5</th>\n",
       "      <td>6_jan</td>\n",
       "      <td>38</td>\n",
       "      <td>200</td>\n",
       "    </tr>\n",
       "    <tr>\n",
       "      <th>6</th>\n",
       "      <td>7_jan</td>\n",
       "      <td>24</td>\n",
       "      <td>70</td>\n",
       "    </tr>\n",
       "    <tr>\n",
       "      <th>7</th>\n",
       "      <td>8_jan</td>\n",
       "      <td>37</td>\n",
       "      <td>190</td>\n",
       "    </tr>\n",
       "    <tr>\n",
       "      <th>8</th>\n",
       "      <td>9_jan</td>\n",
       "      <td>39</td>\n",
       "      <td>200</td>\n",
       "    </tr>\n",
       "    <tr>\n",
       "      <th>9</th>\n",
       "      <td>10_jan</td>\n",
       "      <td>39</td>\n",
       "      <td>220</td>\n",
       "    </tr>\n",
       "    <tr>\n",
       "      <th>10</th>\n",
       "      <td>11_jan</td>\n",
       "      <td>21</td>\n",
       "      <td>30</td>\n",
       "    </tr>\n",
       "    <tr>\n",
       "      <th>11</th>\n",
       "      <td>12_jan</td>\n",
       "      <td>23</td>\n",
       "      <td>70</td>\n",
       "    </tr>\n",
       "  </tbody>\n",
       "</table>\n",
       "</div>"
      ],
      "text/plain": [
       "      Date  temp  Sell\n",
       "0    1_jan    30   110\n",
       "1    2_jan    38   140\n",
       "2    3_jan    37   200\n",
       "3    4_jan    25    90\n",
       "4    5_jan    33   170\n",
       "5    6_jan    38   200\n",
       "6    7_jan    24    70\n",
       "7    8_jan    37   190\n",
       "8    9_jan    39   200\n",
       "9   10_jan    39   220\n",
       "10  11_jan    21    30\n",
       "11  12_jan    23    70"
      ]
     },
     "execution_count": 5,
     "metadata": {},
     "output_type": "execute_result"
    }
   ],
   "source": [
    "df = pd.read_csv(\"IceCreamSell.csv\") #df for dataframe, read the data from the csv data file.\n",
    "df"
   ]
  },
  {
   "cell_type": "markdown",
   "id": "8bf659e5",
   "metadata": {},
   "source": [
    "# Visualization data in graphical representation(Not necessary, but helps to understand the dataset)"
   ]
  },
  {
   "cell_type": "code",
   "execution_count": 6,
   "id": "60bf7275",
   "metadata": {},
   "outputs": [
    {
     "data": {
      "text/plain": [
       "<matplotlib.collections.PathCollection at 0x26055304250>"
      ]
     },
     "execution_count": 6,
     "metadata": {},
     "output_type": "execute_result"
    },
    {
     "data": {
      "image/png": "[encoded data removed]",
      "text/plain": [
       "<Figure size 432x288 with 1 Axes>"
      ]
     },
     "metadata": {
      "needs_background": "light"
     },
     "output_type": "display_data"
    }
   ],
   "source": [
    "# For the data visualization\n",
    "%matplotlib inline\n",
    "plt.xlabel('weather temperature')\n",
    "plt.ylabel('Ice cream sell')\n",
    "plt.scatter(df.temp, df.Sell)"
   ]
  },
  {
   "cell_type": "code",
   "execution_count": 7,
   "id": "6fbc24c2",
   "metadata": {},
   "outputs": [],
   "source": [
    "x = df[['temp']] #since x have to be two dimentional or 2D array"
   ]
  },
  {
   "cell_type": "code",
   "execution_count": 8,
   "id": "d6f60eb0",
   "metadata": {},
   "outputs": [],
   "source": [
    "y = df['Sell']"
   ]
  },
  {
   "cell_type": "markdown",
   "id": "caf02c0d",
   "metadata": {},
   "source": [
    "# Split Dataset for Train and Test"
   ]
  },
  {
   "cell_type": "code",
   "execution_count": 9,
   "id": "5e8864d8",
   "metadata": {},
   "outputs": [],
   "source": [
    "from sklearn.model_selection import train_test_split\n",
    "x_train, x_test, y_train, y_test = train_test_split(x,y,test_size= 0.2)\n",
    "\n",
    "#X_train, X_test, y_train, y_test = train_test_split(X,y,test_size=0.3,random_state=10) \n",
    "#if you use \"random_state=10\" then the smaple will be same all the time"
   ]
  },
  {
   "cell_type": "code",
   "execution_count": 10,
   "id": "2457ac85",
   "metadata": {},
   "outputs": [
    {
     "data": {
      "text/html": [
       "<div>\n",
       "<style scoped>\n",
       "    .dataframe tbody tr th:only-of-type {\n",
       "        vertical-align: middle;\n",
       "    }\n",
       "\n",
       "    .dataframe tbody tr th {\n",
       "        vertical-align: top;\n",
       "    }\n",
       "\n",
       "    .dataframe thead th {\n",
       "        text-align: right;\n",
       "    }\n",
       "</style>\n",
       "<table border=\"1\" class=\"dataframe\">\n",
       "  <thead>\n",
       "    <tr style=\"text-align: right;\">\n",
       "      <th></th>\n",
       "      <th>temp</th>\n",
       "    </tr>\n",
       "  </thead>\n",
       "  <tbody>\n",
       "    <tr>\n",
       "      <th>7</th>\n",
       "      <td>37</td>\n",
       "    </tr>\n",
       "    <tr>\n",
       "      <th>9</th>\n",
       "      <td>39</td>\n",
       "    </tr>\n",
       "    <tr>\n",
       "      <th>0</th>\n",
       "      <td>30</td>\n",
       "    </tr>\n",
       "    <tr>\n",
       "      <th>2</th>\n",
       "      <td>37</td>\n",
       "    </tr>\n",
       "    <tr>\n",
       "      <th>6</th>\n",
       "      <td>24</td>\n",
       "    </tr>\n",
       "    <tr>\n",
       "      <th>3</th>\n",
       "      <td>25</td>\n",
       "    </tr>\n",
       "    <tr>\n",
       "      <th>1</th>\n",
       "      <td>38</td>\n",
       "    </tr>\n",
       "    <tr>\n",
       "      <th>4</th>\n",
       "      <td>33</td>\n",
       "    </tr>\n",
       "    <tr>\n",
       "      <th>5</th>\n",
       "      <td>38</td>\n",
       "    </tr>\n",
       "  </tbody>\n",
       "</table>\n",
       "</div>"
      ],
      "text/plain": [
       "   temp\n",
       "7    37\n",
       "9    39\n",
       "0    30\n",
       "2    37\n",
       "6    24\n",
       "3    25\n",
       "1    38\n",
       "4    33\n",
       "5    38"
      ]
     },
     "execution_count": 10,
     "metadata": {},
     "output_type": "execute_result"
    }
   ],
   "source": [
    "x_train"
   ]
  },
  {
   "cell_type": "code",
   "execution_count": 11,
   "id": "8019e195",
   "metadata": {},
   "outputs": [
    {
     "data": {
      "text/html": [
       "<div>\n",
       "<style scoped>\n",
       "    .dataframe tbody tr th:only-of-type {\n",
       "        vertical-align: middle;\n",
       "    }\n",
       "\n",
       "    .dataframe tbody tr th {\n",
       "        vertical-align: top;\n",
       "    }\n",
       "\n",
       "    .dataframe thead th {\n",
       "        text-align: right;\n",
       "    }\n",
       "</style>\n",
       "<table border=\"1\" class=\"dataframe\">\n",
       "  <thead>\n",
       "    <tr style=\"text-align: right;\">\n",
       "      <th></th>\n",
       "      <th>temp</th>\n",
       "    </tr>\n",
       "  </thead>\n",
       "  <tbody>\n",
       "    <tr>\n",
       "      <th>8</th>\n",
       "      <td>39</td>\n",
       "    </tr>\n",
       "    <tr>\n",
       "      <th>10</th>\n",
       "      <td>21</td>\n",
       "    </tr>\n",
       "    <tr>\n",
       "      <th>11</th>\n",
       "      <td>23</td>\n",
       "    </tr>\n",
       "  </tbody>\n",
       "</table>\n",
       "</div>"
      ],
      "text/plain": [
       "    temp\n",
       "8     39\n",
       "10    21\n",
       "11    23"
      ]
     },
     "execution_count": 11,
     "metadata": {},
     "output_type": "execute_result"
    }
   ],
   "source": [
    "x_test"
   ]
  },
  {
   "cell_type": "code",
   "execution_count": 12,
   "id": "adb16503",
   "metadata": {},
   "outputs": [
    {
     "data": {
      "text/plain": [
       "7    190\n",
       "9    220\n",
       "0    110\n",
       "2    200\n",
       "6     70\n",
       "3     90\n",
       "1    140\n",
       "4    170\n",
       "5    200\n",
       "Name: Sell, dtype: int64"
      ]
     },
     "execution_count": 12,
     "metadata": {},
     "output_type": "execute_result"
    }
   ],
   "source": [
    "y_train"
   ]
  },
  {
   "cell_type": "code",
   "execution_count": 13,
   "id": "cc84268b",
   "metadata": {},
   "outputs": [
    {
     "data": {
      "text/plain": [
       "8     200\n",
       "10     30\n",
       "11     70\n",
       "Name: Sell, dtype: int64"
      ]
     },
     "execution_count": 13,
     "metadata": {},
     "output_type": "execute_result"
    }
   ],
   "source": [
    "y_test"
   ]
  },
  {
   "cell_type": "markdown",
   "id": "d27c6361",
   "metadata": {},
   "source": [
    "# Train dataset using model/algorithom"
   ]
  },
  {
   "cell_type": "code",
   "execution_count": 14,
   "id": "55550356",
   "metadata": {},
   "outputs": [
    {
     "data": {
      "text/plain": [
       "LinearRegression()"
      ]
     },
     "execution_count": 14,
     "metadata": {},
     "output_type": "execute_result"
    }
   ],
   "source": [
    "# use the regression model for the dataset\n",
    "reg = LinearRegression() #creat the object for the regression\n",
    "reg.fit(x_train, y_train)  #pass the data through the model, reg.fit(1st argument, 2nd argument);\n",
    "            #1st argument have to be two dimentional or 2D array\n",
    "            #2nd argument have to be y axis or the output, since y=mx+c"
   ]
  },
  {
   "cell_type": "markdown",
   "id": "87bb7786",
   "metadata": {},
   "source": [
    "# Predict"
   ]
  },
  {
   "cell_type": "code",
   "execution_count": 15,
   "id": "d3199934",
   "metadata": {},
   "outputs": [
    {
     "data": {
      "text/plain": [
       "array([201.36513158,  49.34210526,  66.23355263])"
      ]
     },
     "execution_count": 15,
     "metadata": {},
     "output_type": "execute_result"
    }
   ],
   "source": [
    "reg.predict(x_test)"
   ]
  },
  {
   "cell_type": "code",
   "execution_count": 16,
   "id": "f26ae2b6",
   "metadata": {},
   "outputs": [
    {
     "data": {
      "text/plain": [
       "8     200\n",
       "10     30\n",
       "11     70\n",
       "Name: Sell, dtype: int64"
      ]
     },
     "execution_count": 16,
     "metadata": {},
     "output_type": "execute_result"
    }
   ],
   "source": [
    "y_test"
   ]
  },
  {
   "cell_type": "markdown",
   "id": "c67b933c",
   "metadata": {},
   "source": [
    "# Accuracy of The Model"
   ]
  },
  {
   "cell_type": "code",
   "execution_count": 17,
   "id": "2616f916",
   "metadata": {},
   "outputs": [
    {
     "data": {
      "text/plain": [
       "0.9753059021507592"
      ]
     },
     "execution_count": 17,
     "metadata": {},
     "output_type": "execute_result"
    }
   ],
   "source": [
    "#We will find the accuracy of this model(our model was liner regression model) for our dataset\n",
    "reg.score(x_test, y_test)"
   ]
  },
  {
   "cell_type": "markdown",
   "id": "84ee39dc",
   "metadata": {},
   "source": [
    "# predict the output manually"
   ]
  },
  {
   "cell_type": "code",
   "execution_count": 18,
   "id": "c840a986",
   "metadata": {},
   "outputs": [
    {
     "data": {
      "text/plain": [
       "array([129.57648026])"
      ]
     },
     "execution_count": 18,
     "metadata": {},
     "output_type": "execute_result"
    }
   ],
   "source": [
    "# Give any unknown weather,to know the price\n",
    "#(N.B: the potato kilogram value have to be any value upto 1,for the decent prediction. Since our fitted data Ice crame buy range is 1 to 7)\n",
    "reg.predict([[30.5]])"
   ]
  },
  {
   "cell_type": "markdown",
   "id": "5936d19c",
   "metadata": {},
   "source": [
    "# Take user input to know the potato price"
   ]
  },
  {
   "cell_type": "code",
   "execution_count": 19,
   "id": "b1a25c0f",
   "metadata": {},
   "outputs": [
    {
     "name": "stdout",
     "output_type": "stream",
     "text": [
      "To know the how number of ice cream Buy. Enter the weather: 35\n",
      "So 35 Need to buy Ice Cream is = 167.58223684210526\n"
     ]
    },
    {
     "name": "stderr",
     "output_type": "stream",
     "text": [
      "C:\\Users\\MDRAFI~1\\AppData\\Local\\Temp/ipykernel_11984/958160320.py:5: DeprecationWarning: `np.float` is a deprecated alias for the builtin `float`. To silence this warning, use `float` by itself. Doing this will not modify any behavior and is safe. If you specifically wanted the numpy scalar type, use `np.float64` here.\n",
      "Deprecated in NumPy 1.20; for more details and guidance: https://numpy.org/devdocs/release/1.20.0-notes.html#deprecations\n",
      "  fvalu = array.astype(np.float)\n"
     ]
    }
   ],
   "source": [
    "#Simple user interface to run our model the model\n",
    "x= input('To know the how number of ice cream Buy. Enter the weather: ')\n",
    "import numpy as np\n",
    "array = np.array(x)\n",
    "fvalu = array.astype(np.float)\n",
    "fvalu_2D = ([[fvalu]])\n",
    "\n",
    "my_prediction = reg.predict(fvalu_2D)\n",
    "\n",
    "Sell = np.array(my_prediction)\n",
    "Sell = Sell.item()\n",
    "\n",
    "print('So',x, 'Need to buy Ice Cream is =', Sell, )"
   ]
  },
  {
   "cell_type": "code",
   "execution_count": null,
   "id": "f8ec9bb2",
   "metadata": {},
   "outputs": [],
   "source": []
  }
 ],
 "metadata": {
  "kernelspec": {
   "display_name": "Python 3 (ipykernel)",
   "language": "python",
   "name": "python3"
  },
  "language_info": {
   "codemirror_mode": {
    "name": "ipython",
    "version": 3
   },
   "file_extension": ".py",
   "mimetype": "text/x-python",
   "name": "python",
   "nbconvert_exporter": "python",
   "pygments_lexer": "ipython3",
   "version": "3.9.7"
  }
 },
 "nbformat": 4,
 "nbformat_minor": 5
}
